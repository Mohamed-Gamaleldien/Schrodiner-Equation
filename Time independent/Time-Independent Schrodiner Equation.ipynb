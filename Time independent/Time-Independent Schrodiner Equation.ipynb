{
 "cells": [
  {
   "cell_type": "markdown",
   "id": "06b56d7a",
   "metadata": {},
   "source": [
    "# Time-Independent Schrodiner Equation"
   ]
  },
  {
   "cell_type": "markdown",
   "id": "57e437c5",
   "metadata": {},
   "source": [
    "The Time-Independent Schrodiner Equation for this system is: \n",
    "\n",
    "$$\\hat H \\psi = E \\psi \\Leftrightarrow -\\frac{\\hbar^2}{2m} \\frac{d^2 \\psi }{dx^2} = E \\psi $$\n",
    "\n",
    "To solve the TISE using Python, we need to turn the Schrödinger differential equation into a ***difference equation*** using ***Crank-Nicholson Technique***, where we discretise space into an $N$ point grid spacing of $\\Delta x$. :-\n",
    "\n",
    "\\begin{align*}\n",
    " \\frac{\\partial^2 \\psi}{\\partial x^2} = \\frac{\\psi\\left(x+\\Delta x\\right)-2\\psi\\left(x\\right) + \\psi\\left(x-\\Delta x\\right)}{\\Delta x^2}\n",
    "\\end{align*}\n",
    "\n",
    "Now, let us switch to grid notation on our discrete mesh of $i\\Delta x$ points. $\\psi_i$ is indexed\n",
    "spatially with the index $i$. This means $\\psi(x \\pm \\Delta x) = \\psi_{\\pm i} $. So we can equivalently write the time-independent Schrodinger equation as:-\n",
    "\\begin{align*}\n",
    " -\\frac{\\hbar^2}{2m} \\left(\\frac{\\psi_{i+1} - 2\\psi_{i} + \\psi_{i+1}} {\\Delta x^2}\\right) + V(x) \\psi_{i} = E \\psi_{i}\n",
    "\\end{align*}\n",
    "\n",
    "\\begin{align*}\n",
    "-\\frac{\\hbar^2}{2m} \\frac{\\psi_{i+1}}{\\Delta x^2} + \\frac{\\hbar^2}{m} \\frac{\\psi_{i}}{\\Delta x^2}  -\\frac{\\hbar^2}{2m} \\frac{\\psi_{i-1}}{\\Delta x^2}  + V(x) \\psi_{i} = E \\psi_{i}\n",
    "\\end{align*}\n",
    "\n",
    "\\begin{align} \n",
    "-\\frac{\\hbar^2}{2m} \\frac{\\psi_{i+1}}{\\Delta x^2} + \\left(\\frac{\\hbar^2}{m \\Delta x^2} +V(x) \\right) \\psi_{i} -\\frac{\\hbar^2}{2m} \\frac{\\psi_{i-1}}{\\Delta x^2} = E \\psi_{i} \\qquad \\qquad \\qquad \\qquad (1) \\!\\!\\!\\!\\!\\!\\!\\!\\!\\!\\!\\!\\!\\!\\!\\!\\!\\!\\!\\!\\!\\!\\!\\!\\!\\!\\!\\!\\!\\!\\!\\!\\!\\!\\!\\!\\!\\!\\!\\!\\!\\!\\!\\!\\!\\!\\!\\!\\!\\!\n",
    "\\end{align}\n",
    "\n",
    "\n",
    "Then we can formulate $Eq.1$ in terms of a tridiagonal matrix equation of the following form\n",
    "\n",
    "\\begin{align*}\n",
    "\\begin{pmatrix} \n",
    "\t\t\\frac{\\hbar^2}{m} \\frac 1{(\\Delta x)^2} + V_1 & -\\frac{\\hbar^2}{2m} \\frac 1{(\\Delta x)^2} & 0 & 0 \\\\\n",
    "\t\t-\\frac{\\hbar^2}{2m} \\frac 1{(\\Delta x)^2} & \\frac{\\hbar^2}{m} \\frac 1{(\\Delta x)^2} + V_2 & -\\frac{\\hbar^2}{2m} \\frac 1{(\\Delta x)^2} & \\vdots\\\\\n",
    "\t\t\\dots & \\dots  & \\dots & -\\frac{\\hbar^2}{2m} \\frac 1{(\\Delta x)^2} \\\\ \n",
    "\t\t \\dots & \\dots & -\\frac{\\hbar^2}{2m} \\frac 1{(\\Delta x)^2} & \\frac{\\hbar^2}{m} \\frac 1{(\\Delta x)^2} + V_{N-1} \\\\\n",
    "\t\\end{pmatrix}\n",
    "\t\\begin{pmatrix} \\psi_1 \\\\ \\psi_2 \\\\ \\dots \\\\ \\dots \\\\ \\psi_{N-1} \\\\\n",
    "\t\\end{pmatrix} = E\n",
    "\t\\begin{pmatrix} \n",
    "\t\t\\psi_1 \\\\ \\psi_2 \\\\ \\dots \\\\ \\dots \\\\ \\psi_{N-1} \n",
    "\t\\end{pmatrix}\n",
    "\\end{align*}"
   ]
  },
  {
   "cell_type": "code",
   "execution_count": 1,
   "id": "e84f8b97",
   "metadata": {},
   "outputs": [],
   "source": [
    "import numpy as np\n",
    "import matplotlib.pyplot as plt\n",
    "from scipy.linalg import eigh_tridiagonal"
   ]
  },
  {
   "cell_type": "markdown",
   "id": "650db351",
   "metadata": {},
   "source": [
    "# Constants"
   ]
  },
  {
   "cell_type": "code",
   "execution_count": 2,
   "id": "aa0da788",
   "metadata": {},
   "outputs": [],
   "source": [
    "#constants AMU\n",
    "hbar = 1\n",
    "m = 1"
   ]
  },
  {
   "cell_type": "markdown",
   "id": "43541a74",
   "metadata": {},
   "source": [
    "# Infinite Square Well"
   ]
  },
  {
   "cell_type": "markdown",
   "id": "4e888e29",
   "metadata": {},
   "source": [
    "Suppose an electron (mass $m$) is trapped in an infinite square well; $0 \\leq x \\leq a$ such that: \n",
    "\n",
    "$$\\begin{cases} V(x) = 0 & \\text{for } 0 \\leq x \\leq a \\\\ \\infty & \\text{otherwise.} \\end{cases} $$\n",
    "\n",
    "The Time-Independent Schrodiner Equation for this system is: \n",
    "\n",
    "$$\\hat H \\psi = E \\psi \\Leftrightarrow -\\frac{\\hbar^2}{2m} \\frac{d^2 \\psi }{dx^2} = E \\psi $$\n",
    "\n",
    "With boundary conditions: $\\psi(0) = \\psi(a) =0$ to ensure that the wavefunction is continuous. "
   ]
  },
  {
   "cell_type": "code",
   "execution_count": 3,
   "id": "26ad128a",
   "metadata": {},
   "outputs": [
    {
     "ename": "NameError",
     "evalue": "name 'N' is not defined",
     "output_type": "error",
     "traceback": [
      "\u001b[1;31m---------------------------------------------------------------------------\u001b[0m",
      "\u001b[1;31mNameError\u001b[0m                                 Traceback (most recent call last)",
      "\u001b[1;32m~\\AppData\\Local\\Temp\\ipykernel_10472\\664994515.py\u001b[0m in \u001b[0;36m<module>\u001b[1;34m\u001b[0m\n\u001b[0;32m      1\u001b[0m \u001b[1;31m#creating the grid\u001b[0m\u001b[1;33m\u001b[0m\u001b[1;33m\u001b[0m\u001b[0m\n\u001b[0;32m      2\u001b[0m \u001b[0mN_infinite_square\u001b[0m \u001b[1;33m=\u001b[0m \u001b[1;36m2000\u001b[0m\u001b[1;33m\u001b[0m\u001b[1;33m\u001b[0m\u001b[0m\n\u001b[1;32m----> 3\u001b[1;33m \u001b[0mdx_infinite_square\u001b[0m \u001b[1;33m=\u001b[0m \u001b[1;36m1\u001b[0m\u001b[1;33m/\u001b[0m\u001b[0mN\u001b[0m\u001b[1;33m\u001b[0m\u001b[1;33m\u001b[0m\u001b[0m\n\u001b[0m\u001b[0;32m      4\u001b[0m \u001b[0mx_infinite_square\u001b[0m \u001b[1;33m=\u001b[0m \u001b[0mnp\u001b[0m\u001b[1;33m.\u001b[0m\u001b[0mlinspace\u001b[0m\u001b[1;33m(\u001b[0m\u001b[1;36m0\u001b[0m\u001b[1;33m,\u001b[0m \u001b[1;36m1\u001b[0m\u001b[1;33m,\u001b[0m \u001b[0mN\u001b[0m\u001b[1;33m+\u001b[0m\u001b[1;36m1\u001b[0m\u001b[1;33m)\u001b[0m\u001b[1;33m\u001b[0m\u001b[1;33m\u001b[0m\u001b[0m\n",
      "\u001b[1;31mNameError\u001b[0m: name 'N' is not defined"
     ]
    }
   ],
   "source": [
    "#creating the grid\n",
    "N_infinite_square = 2000\n",
    "dx_infinite_square = 1/N\n",
    "x_infinite_square = np.linspace(0, 1, N+1)"
   ]
  },
  {
   "cell_type": "code",
   "execution_count": null,
   "id": "e955381f",
   "metadata": {},
   "outputs": [],
   "source": [
    "def V_infinite_square(x):\n",
    "    return 0*((x>=0)*(x<=1))"
   ]
  },
  {
   "cell_type": "code",
   "execution_count": null,
   "id": "ae6eb2b5",
   "metadata": {},
   "outputs": [],
   "source": [
    "V_infinite_square = V_infinite_square(x)"
   ]
  },
  {
   "cell_type": "code",
   "execution_count": null,
   "id": "4fef3b53",
   "metadata": {},
   "outputs": [],
   "source": [
    "plt.plot(x_infinite_square, V_infinite_square)"
   ]
  },
  {
   "cell_type": "code",
   "execution_count": null,
   "id": "1bc5cc31",
   "metadata": {},
   "outputs": [],
   "source": [
    "d_infinite_square = (hbar)**2/(m*dx_infinite_square**2) + V_infinite_square[1:-1]\n",
    "e_infinite_square = -(hbar)**2/(2*m*dx_infinite_square**2) * np.ones(len(d)-1)"
   ]
  },
  {
   "cell_type": "code",
   "execution_count": null,
   "id": "70b0f65a",
   "metadata": {},
   "outputs": [],
   "source": [
    "E_infinite_square, psi_infinite_square = eigh_tridiagonal(d_infinite_square, e_infinite_square)"
   ]
  },
  {
   "cell_type": "markdown",
   "id": "a115eedf",
   "metadata": {},
   "source": [
    "taking the transpose matrix of eigenstates matrix (psi_infinite_square)"
   ]
  },
  {
   "cell_type": "code",
   "execution_count": null,
   "id": "667c933f",
   "metadata": {},
   "outputs": [],
   "source": [
    "print(psi_infinite_square)"
   ]
  },
  {
   "cell_type": "code",
   "execution_count": null,
   "id": "d68c2ec5",
   "metadata": {},
   "outputs": [],
   "source": [
    "psi_infinite_square.T"
   ]
  },
  {
   "cell_type": "markdown",
   "id": "fcc15702",
   "metadata": {},
   "source": [
    "Plotting the first four eigenstates "
   ]
  },
  {
   "cell_type": "code",
   "execution_count": null,
   "id": "4055417f",
   "metadata": {},
   "outputs": [],
   "source": [
    "plt.figure(figsize=(16,6))\n",
    "plt.plot(x[1:-1],psi_infinite_square.T[0], label='$1^{st}$ eigenfunction')\n",
    "plt.plot(x[1:-1],psi_infinite_square.T[1], label='$2^{nd}$ eigenfunction')\n",
    "plt.plot(x[1:-1],psi_infinite_square.T[2], label='$3^{rd}$ eigenfunction')\n",
    "plt.plot(x[1:-1],psi_infinite_square.T[3], label='$4^{th}$ eigenfunction')\n",
    "plt.ylabel('$\\psi$', fontsize=20)\n",
    "plt.xlabel('$x$', fontsize=20)\n",
    "plt.grid()\n",
    "plt.legend()"
   ]
  },
  {
   "cell_type": "markdown",
   "id": "b01408c0",
   "metadata": {},
   "source": [
    "Plotting the probability of the first four eigenstates:-"
   ]
  },
  {
   "cell_type": "code",
   "execution_count": null,
   "id": "d4313b35",
   "metadata": {},
   "outputs": [],
   "source": [
    "plt.figure(figsize=(16,6))\n",
    "plt.plot(x[1:-1],psi_infinite_square.T[0]**2, label='$1^{st}$ eigenfunction')\n",
    "plt.plot(x[1:-1],psi_infinite_square.T[1]**2, label='$2^{nd}$ eigenfunction')\n",
    "plt.plot(x[1:-1],psi_infinite_square.T[2]**2, label='$3^{rd}$ eigenfunction')\n",
    "plt.plot(x[1:-1],psi_infinite_square.T[3]**2, label='$4^{th}$ eigenfunction')\n",
    "plt.ylabel('$|\\psi|^2$', fontsize=20)\n",
    "plt.xlabel('$x$', fontsize=20)\n",
    "plt.grid()\n",
    "plt.legend()"
   ]
  },
  {
   "cell_type": "markdown",
   "id": "5cf246ac",
   "metadata": {},
   "source": [
    " The eigenvalues for the first four eigenstates:-"
   ]
  },
  {
   "cell_type": "code",
   "execution_count": null,
   "id": "becf0517",
   "metadata": {},
   "outputs": [],
   "source": [
    "plt.bar(np.arange(0, 4, 1), E_infinite_square[0:4])\n",
    "plt.ylabel('$E$', fontsize=20)"
   ]
  },
  {
   "cell_type": "markdown",
   "id": "16da8f67",
   "metadata": {},
   "source": [
    "# The Finite Square Well "
   ]
  },
  {
   "cell_type": "markdown",
   "id": "d4f4b050",
   "metadata": {},
   "source": [
    "We can rewrite the time-independent Schrodinger equation as:-\n",
    "$$\\left(-\\frac{d^2}{dx'^2} +\\frac{2ma^2}{\\hbar^2}V(x') \\right)\\psi(x') = \\frac{2ma^2}{\\hbar^2}E \\psi(x')$$\n",
    "where $x'=x/a$. Now the well goes from -1 to 1 as opposed to $-a$ to $a$. We can then define $V'= \\frac{2ma^2}{\\hbar^2}V$ and $E'=\\frac{2ma^2}{\\hbar^2}E$ to make the problem simpler:\n",
    "$$\\boxed{\\left(-\\frac{d^2}{dx'^2} + V' \\right)\\psi(x') = E' \\psi(x')}$$\n",
    "Noting that $V' = V \\big/ \\left(\\frac{\\hbar^2}{2ma^2}\\right)$ we have that $V_0=-V_0' \\cdot \\frac{\\hbar^2}{2ma^2}$ inside the well. ($V_0'$ is a dimensionless number that tells you how many $\\frac{\\hbar^2}{2ma^2}$ there are in $V_0$).\n",
    "\n",
    "**For simplification will drop all the primes**"
   ]
  },
  {
   "cell_type": "code",
   "execution_count": null,
   "id": "dc720420",
   "metadata": {},
   "outputs": [],
   "source": [
    "N_finite_square = 10000\n",
    "x_finite_square = np.linspace(-3,3,N_finite_square)\n",
    "dx_finite_square = np.diff(x_finite_square)[0]\n",
    "V0 = 40"
   ]
  },
  {
   "cell_type": "code",
   "execution_count": null,
   "id": "05bcd764",
   "metadata": {},
   "outputs": [],
   "source": [
    "plt.plot(x_finite_square, -V0*((x_finite_square>=-1)*(x_finite_square<=1)).astype(float))"
   ]
  },
  {
   "cell_type": "code",
   "execution_count": null,
   "id": "66591522",
   "metadata": {},
   "outputs": [],
   "source": [
    "main_diag = 2*np.ones(N_finite_square)/dx_finite_square**2 -V0*((x_finite_square>=-1)*(x_finite_square<=1)).astype(float)\n",
    "off_diag =  -np.ones(N_finite_square-1)/dx_finite_square**2"
   ]
  },
  {
   "cell_type": "code",
   "execution_count": null,
   "id": "fc96fff7",
   "metadata": {},
   "outputs": [],
   "source": [
    "E_finite_square, psi_finite_square = eigh_tridiagonal(main_diag, off_diag, select='v', select_range=(-V0,0))"
   ]
  },
  {
   "cell_type": "code",
   "execution_count": null,
   "id": "e8d4cdf7",
   "metadata": {},
   "outputs": [],
   "source": [
    "plt.figure(figsize=(16,8))\n",
    "plt.plot(x_finite_square, psi_finite_square.T[0], label='$1^{st}$ eigenfunction')\n",
    "plt.plot(x_finite_square, psi_finite_square.T[1], label='$2^{nd}$ eigenfunction')\n",
    "plt.plot(x_finite_square, psi_finite_square.T[2], label='$3^{rd}$ eigenfunction')\n",
    "plt.plot(x_finite_square, psi_finite_square.T[3], label='$4^{th}$ eigenfunction')\n",
    "plt.xlabel('x/a')\n",
    "plt.legend()\n",
    "plt.grid()\n",
    "plt.show()"
   ]
  },
  {
   "cell_type": "code",
   "execution_count": null,
   "id": "aeba2695",
   "metadata": {},
   "outputs": [],
   "source": [
    "plt.figure(figsize=(16,8))\n",
    "plt.plot(x_finite_square, psi_finite_square.T[0]**2, label='$1^{st}$ eigenfunction')\n",
    "plt.plot(x_finite_square, psi_finite_square.T[1]**2, label='$2^{nd}$ eigenfunction')\n",
    "plt.plot(x_finite_square, psi_finite_square.T[2]**2, label='$3^{rd}$ eigenfunction')\n",
    "plt.plot(x_finite_square, psi_finite_square.T[3]**2, label='$4^{th}$ eigenfunction')\n",
    "plt.xlabel('x/a')\n",
    "plt.legend()\n",
    "plt.grid()\n",
    "plt.show()"
   ]
  },
  {
   "cell_type": "markdown",
   "id": "51b3b8e8",
   "metadata": {},
   "source": [
    "Now, remember that we are using $E'$ and to find $E$ wwe substitute $E'=\\frac{2ma^2}{\\hbar^2}E$"
   ]
  },
  {
   "cell_type": "code",
   "execution_count": null,
   "id": "18e3fc14",
   "metadata": {},
   "outputs": [],
   "source": [
    "plt.bar(np.arange(0, 4, 1), E_finite_square[0:4])\n",
    "plt.ylabel('$ \\\\frac{2ma^2E}{\\\\hbar^2} $', fontsize=20)\n",
    "print(E_finite_square[0:4])"
   ]
  },
  {
   "cell_type": "markdown",
   "id": "567f4b06",
   "metadata": {},
   "source": [
    "# Harmonic Oscillator "
   ]
  },
  {
   "cell_type": "code",
   "execution_count": null,
   "id": "a6c22715",
   "metadata": {},
   "outputs": [],
   "source": [
    "N_harmonic_oscillator  = 2000\n",
    "dx_harmonic_oscillator  = 1/N\n",
    "x_harmonic_oscillator = np.linspace(0, 1, N+1)"
   ]
  },
  {
   "cell_type": "code",
   "execution_count": null,
   "id": "97417d18",
   "metadata": {},
   "outputs": [],
   "source": [
    "def V_harmonic_oscillator(x):\n",
    "    return 1000*(x-0.5)**2"
   ]
  },
  {
   "cell_type": "code",
   "execution_count": null,
   "id": "e8170376",
   "metadata": {},
   "outputs": [],
   "source": [
    "V_harmonic_oscillator = V_harmonic_oscillator(x)"
   ]
  },
  {
   "cell_type": "code",
   "execution_count": null,
   "id": "e5edbebc",
   "metadata": {},
   "outputs": [],
   "source": [
    "plt.plot(x, V_harmonic_oscillator)"
   ]
  },
  {
   "cell_type": "code",
   "execution_count": null,
   "id": "3d5c2556",
   "metadata": {},
   "outputs": [],
   "source": [
    "d_harmonic_oscillator  = (hbar)**2/(m*dx_harmonic_oscillator **2) + V_harmonic_oscillator [1:-1]\n",
    "e_harmonic_oscillator  = -(hbar)**2/(2*m*dx_harmonic_oscillator **2) * np.ones(len(d)-1)"
   ]
  },
  {
   "cell_type": "code",
   "execution_count": null,
   "id": "baeb4b96",
   "metadata": {},
   "outputs": [],
   "source": [
    "w_harmonic_oscillator, v_harmonic_oscillator = eigh_tridiagonal(d_harmonic_oscillator, e_harmonic_oscillator)"
   ]
  },
  {
   "cell_type": "code",
   "execution_count": null,
   "id": "ac19c602",
   "metadata": {},
   "outputs": [],
   "source": [
    "plt.figure(figsize=(16,6))\n",
    "plt.plot(x_harmonic_oscillator[1:-1], v_harmonic_oscillator.T[0], label='$1^{st}$ eigenfunction')\n",
    "plt.plot(x_harmonic_oscillator[1:-1], v_harmonic_oscillator.T[1], label='$2^{nd}$ eigenfunction')\n",
    "plt.plot(x_harmonic_oscillator[1:-1], v_harmonic_oscillator.T[2], label='$3^{rd}$ eigenfunction')\n",
    "plt.plot(x_harmonic_oscillator[1:-1], v_harmonic_oscillator.T[3], label='$4^{th}$ eigenfunction')\n",
    "plt.ylabel('$\\psi$', fontsize=20)\n",
    "plt.xlabel('$N$', fontsize=20)\n",
    "plt.legend()"
   ]
  },
  {
   "cell_type": "code",
   "execution_count": null,
   "id": "7375b929",
   "metadata": {},
   "outputs": [],
   "source": [
    "plt.figure(figsize=(16,6))\n",
    "plt.plot(x_harmonic_oscillator[1:-1], v_harmonic_oscillator.T[0]**2, label='$1^{st}$ eigenfunction')\n",
    "plt.plot(x_harmonic_oscillator[1:-1], v_harmonic_oscillator.T[1]**2, label='$2^{nd}$ eigenfunction')\n",
    "plt.plot(x_harmonic_oscillator[1:-1], v_harmonic_oscillator.T[2]**2, label='$3^{rd}$ eigenfunction')\n",
    "plt.plot(x_harmonic_oscillator[1:-1], v_harmonic_oscillator.T[3]**2, label='$4^{th}$ eigenfunction')\n",
    "plt.ylabel('$\\psi^2$', fontsize=20)\n",
    "plt.xlabel('$N$', fontsize=20)\n",
    "plt.legend()"
   ]
  },
  {
   "cell_type": "code",
   "execution_count": null,
   "id": "d53bec9f",
   "metadata": {},
   "outputs": [],
   "source": []
  }
 ],
 "metadata": {
  "kernelspec": {
   "display_name": "Python 3 (ipykernel)",
   "language": "python",
   "name": "python3"
  },
  "language_info": {
   "codemirror_mode": {
    "name": "ipython",
    "version": 3
   },
   "file_extension": ".py",
   "mimetype": "text/x-python",
   "name": "python",
   "nbconvert_exporter": "python",
   "pygments_lexer": "ipython3",
   "version": "3.9.13"
  }
 },
 "nbformat": 4,
 "nbformat_minor": 5
}
